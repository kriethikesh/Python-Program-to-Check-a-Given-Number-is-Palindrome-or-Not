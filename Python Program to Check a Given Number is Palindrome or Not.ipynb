{
  "nbformat": 4,
  "nbformat_minor": 0,
  "metadata": {
    "colab": {
      "provenance": []
    },
    "kernelspec": {
      "name": "python3",
      "display_name": "Python 3"
    },
    "language_info": {
      "name": "python"
    }
  },
  "cells": [
    {
      "cell_type": "code",
      "source": [
        "#Python Program to Check a Given Number is Palindrome or Not"
      ],
      "metadata": {
        "id": "Tkfn8jdPHYh0"
      },
      "execution_count": 23,
      "outputs": []
    },
    {
      "cell_type": "code",
      "source": [
        "x=int(input(\"enter a number\"))\n",
        "y=x\n",
        "a=0\n",
        "while x>0:\n",
        "  d=x%10\n",
        "  a=a*10+d\n",
        "  x=x//10\n",
        "if a==y:\n",
        "  print(y,\"is palindrome number\")\n",
        "else:\n",
        "  print(y,\"is not palindrome number\")"
      ],
      "metadata": {
        "id": "Tb_Ja_ODMvC8"
      },
      "execution_count": null,
      "outputs": []
    }
  ]
}